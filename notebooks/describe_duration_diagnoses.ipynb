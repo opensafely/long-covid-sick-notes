{
 "cells": [
  {
   "cell_type": "markdown",
   "metadata": {},
   "source": [
    "# Duration of Sick Notes and Associated Diagnoses\n",
    "\n",
    "This notebook provides descriptive statistics (mean and median) of the duration of sick notes and compares diagnoses associated with sick notes across COVID and comparator cohorts."
   ]
  },
  {
   "cell_type": "code",
   "execution_count": null,
   "metadata": {},
   "outputs": [],
   "source": [
    "import matplotlib.pyplot as plt\n",
    "import numpy as np\n",
    "import os\n",
    "import pandas as pd\n",
    "from pathlib import Path\n",
    "import seaborn as sns\n",
    "\n",
    "from functools import reduce\n",
    "from glob import glob\n",
    "\n",
    "pd.options.mode.chained_assignment = None\n",
    "pd.set_option('display.max_rows', 200)\n",
    "pd.set_option('display.max_colwidth',1000)"
   ]
  },
  {
   "cell_type": "code",
   "execution_count": null,
   "metadata": {},
   "outputs": [],
   "source": [
    "# Function to parse string\n",
    "def find_nth(haystack, needle, n):\n",
    "    start = haystack.find(needle)\n",
    "    while start >= 0 and n > 1:\n",
    "        start = haystack.find(needle, start+len(needle))\n",
    "        n -= 1\n",
    "    return start\n",
    "\n",
    "def round_seven(x, base=7):\n",
    "    return base * round(x/base)"
   ]
  },
  {
   "cell_type": "code",
   "execution_count": null,
   "metadata": {},
   "outputs": [],
   "source": [
    "# Read in and append input files\n",
    "li = []\n",
    "\n",
    "for file in glob('../output/cohorts/cohort_rates*.dta'):\n",
    "    df_temp = pd.read_stata(file)\n",
    "    # Creates date variable based on file name\n",
    "    df_temp['cohort'] = file[find_nth(file, '_', 2)+1:-4]\n",
    "    # Create population count\n",
    "    df_temp['population'] = 1\n",
    "    li.append(df_temp)\n",
    "    \n",
    "df_temp = pd.concat(li, axis=0, ignore_index=False).reset_index(drop=True)\n",
    "\n",
    "# hospitalised COVID cohorts\n",
    "covid_hosp_2020 = df_temp.loc[(~df_temp.hosp_expo_date.isna()) & (df_temp.cohort == 'covid_2020')]\n",
    "covid_hosp_2020.cohort = 'covid_hosp_2020'\n",
    "li.append(covid_hosp_2020)\n",
    "\n",
    "covid_hosp_2021 = df_temp.loc[(~df_temp.hosp_expo_date.isna()) & (df_temp.cohort == 'covid_2021')]\n",
    "covid_hosp_2021.cohort = 'covid_hosp_2021'\n",
    "li.append(covid_hosp_2021)\n",
    "\n",
    "df_input = pd.concat(li, axis=0, ignore_index=False).reset_index(drop=True)"
   ]
  },
  {
   "cell_type": "code",
   "execution_count": null,
   "metadata": {},
   "outputs": [],
   "source": [
    "# Do not count those who had sick notes beyond end dates\n",
    "df_input.loc[df_input.sick_note == 0, 'first_sick_note_duration'] = np.nan"
   ]
  },
  {
   "cell_type": "code",
   "execution_count": null,
   "metadata": {},
   "outputs": [],
   "source": [
    "# Columns to subset\n",
    "diag_cols = [col for col in df_input if col.startswith('diag_')]\n",
    "subset_cols = ['cohort','age_group','sex',\n",
    "               'ethnicity','imd','region_string',\n",
    "               'first_sick_note_duration',\n",
    "               'sick_note','population'] + diag_cols\n",
    "\n",
    "# Subset to relevant columns and do not count those beyond \n",
    "df_clean = df_input[subset_cols].rename(columns={'region_string':'region'})"
   ]
  },
  {
   "cell_type": "code",
   "execution_count": null,
   "metadata": {},
   "outputs": [],
   "source": [
    "# Clean cohort names\n",
    "dict_cohort_names = {'covid_2020':'COVID patients (2020)', \n",
    "                     'covid_2021':'COVID patients (2021)', \n",
    "                     'covid_hosp_2020':'Hospitalised COVID patients (2020)', \n",
    "                     'covid_hosp_2021':'Hospitalised COVID patients (2021)', \n",
    "                     'general_2019':'General population (2019)', \n",
    "                     'general_2020':'General population (2020)', \n",
    "                     'general_2021':'General population (2021)', \n",
    "                     'pneumonia_2019':'Hospitalised pneumonia patients (2019)'}\n",
    "df_clean = df_clean.replace({\"cohort\": dict_cohort_names})"
   ]
  },
  {
   "cell_type": "markdown",
   "metadata": {},
   "source": [
    "_____"
   ]
  },
  {
   "cell_type": "markdown",
   "metadata": {},
   "source": [
    "## Duration"
   ]
  },
  {
   "cell_type": "code",
   "execution_count": null,
   "metadata": {},
   "outputs": [],
   "source": [
    "def compute_med_mean(path, demo=''):\n",
    "    groups = ['cohort']\n",
    "    if demo != '': \n",
    "        groups = ['cohort', demo]\n",
    "    df_pct_ct = df_clean.groupby(\n",
    "        groups)[['sick_note','population']].sum().reset_index()\n",
    "    df_med = df_clean.groupby(\n",
    "        groups)[['first_sick_note_duration']].apply(np.nanmedian).reset_index().rename(columns={0:'median_duration'})\n",
    "    df_mean = df_clean.groupby(\n",
    "        groups)[['first_sick_note_duration']].apply(np.nanmean).reset_index().rename(columns={0:'mean_duration'})\n",
    "    df_pct25 = df_clean.groupby(\n",
    "        groups)[['first_sick_note_duration']].apply(lambda x: np.nanpercentile(x,25)).reset_index().rename(columns={0:'pct_25'})\n",
    "    df_pct75 = df_clean.groupby(\n",
    "        groups)[['first_sick_note_duration']].apply(lambda x: np.nanpercentile(x,75)).reset_index().rename(columns={0:'pct_75'})\n",
    "    dfs = [df_pct_ct, df_med, df_mean, df_pct25, df_pct75]\n",
    "    df_out = reduce(\n",
    "        lambda left,right: pd.merge(left,right,on=groups), dfs\n",
    "    )\n",
    "    # Redact if sick notes or population count <= 5 \n",
    "    df_out = df_out.loc[(df_out['population'] > 5) & (df_out['sick_note'] > 5)]\n",
    "    df_out['population'] = df_out['population'].apply(lambda x: round_seven(x))\n",
    "    df_out['sick_note'] = df_out['sick_note'].apply(lambda x: round_seven(x))\n",
    "    Path(\"../output/tabfig/\").mkdir(parents=True, exist_ok=True)\n",
    "    df_out.to_csv('../output/tabfig/' + path + '.csv', index=False)\n",
    "    return df_out"
   ]
  },
  {
   "cell_type": "code",
   "execution_count": null,
   "metadata": {},
   "outputs": [],
   "source": [
    "# Overall\n",
    "compute_med_mean('med_mean_overall')"
   ]
  },
  {
   "cell_type": "code",
   "execution_count": null,
   "metadata": {},
   "outputs": [],
   "source": [
    "# Age group\n",
    "compute_med_mean('med_mean_age_group', 'age_group')"
   ]
  },
  {
   "cell_type": "code",
   "execution_count": null,
   "metadata": {},
   "outputs": [],
   "source": [
    "# Sex\n",
    "compute_med_mean('med_mean_sex', 'sex')"
   ]
  },
  {
   "cell_type": "code",
   "execution_count": null,
   "metadata": {},
   "outputs": [],
   "source": [
    "# Ethnicity\n",
    "compute_med_mean('med_mean_ethnicity', 'ethnicity')"
   ]
  },
  {
   "cell_type": "code",
   "execution_count": null,
   "metadata": {},
   "outputs": [],
   "source": [
    "# IMD\n",
    "compute_med_mean('med_mean_imd', 'imd')"
   ]
  },
  {
   "cell_type": "code",
   "execution_count": null,
   "metadata": {},
   "outputs": [],
   "source": [
    "# Region\n",
    "compute_med_mean('med_mean_region', 'region')"
   ]
  },
  {
   "cell_type": "markdown",
   "metadata": {},
   "source": [
    "_______"
   ]
  },
  {
   "cell_type": "markdown",
   "metadata": {},
   "source": [
    "## Associated Diagnoses"
   ]
  },
  {
   "cell_type": "markdown",
   "metadata": {},
   "source": [
    "### Percentage of Sick Notes by Diagnostic Category"
   ]
  },
  {
   "cell_type": "code",
   "execution_count": null,
   "metadata": {},
   "outputs": [],
   "source": [
    "def create_subplot(measure, df_in, ax):\n",
    "    # Create barplot\n",
    "    sns.barplot(x=measure, y='cohort', data=df_in, ax=ax, orient='h')\n",
    "    # Set title and axes labels\n",
    "    ax.set_xlabel('% of Sick Notes')\n",
    "    ax.set_ylabel('Cohort')\n",
    "    \n",
    "def create_plotgrid(measure, df_in):\n",
    "    fig, ax = plt.subplots(figsize=(12,8))\n",
    "    create_subplot('pct_'+measure, df_in, ax)\n",
    "    # Title\n",
    "    title = measure[5:].replace(\"_\", \" \").title()\n",
    "    ax.title.set_text(title) \n",
    "    plt.show()\n",
    "    Path(\"../output/tabfig/\").mkdir(parents=True, exist_ok=True)\n",
    "    fig.savefig('../output/tabfig/' + measure + '.png')"
   ]
  },
  {
   "cell_type": "code",
   "execution_count": null,
   "metadata": {},
   "outputs": [],
   "source": [
    "# Create flag\n",
    "for c in diag_cols:\n",
    "    df_clean['num_' + c] = 0\n",
    "    df_clean.loc[~df_clean[c].isna(), 'num_' + c] = 1\n",
    "\n",
    "# Sum sick notes and diagnoses by cohort\n",
    "num_diag_cols = [col for col in df_clean if col.startswith('num_diag_')]\n",
    "diag_subset_cols = ['cohort', 'sick_note'] + num_diag_cols\n",
    "df_diag = df_clean[diag_subset_cols]\n",
    "df_diag_sum = df_diag.groupby('cohort').sum().reset_index()\n",
    "\n",
    "# Proportion of sick notes by diagnoses\n",
    "for c in num_diag_cols:\n",
    "    df_diag_sum['pct_diag_' + c[9:]] = (df_diag_sum[c]/df_diag_sum['sick_note'])*100\n",
    "pct_cols = [col for col in df_diag_sum if col.startswith('pct_diag_')]"
   ]
  },
  {
   "cell_type": "code",
   "execution_count": null,
   "metadata": {},
   "outputs": [],
   "source": [
    "for c in diag_cols:\n",
    "    # Subset and redact if <= 5 in sick note or diagnosis count\n",
    "    df_subset = df_diag_sum[['cohort', 'sick_note', 'num_'+c, 'pct_'+c]]\n",
    "    df_subset.loc[(df_subset['sick_note'] < 5) | (df_subset['num_'+c] < 5), ('num_'+c, 'pct_'+c)] = (0,0)\n",
    "    try:\n",
    "        create_plotgrid(c, df_subset)\n",
    "    except ValueError:\n",
    "        pass"
   ]
  },
  {
   "cell_type": "markdown",
   "metadata": {},
   "source": [
    "### Top Codes by Category"
   ]
  },
  {
   "cell_type": "code",
   "execution_count": null,
   "metadata": {},
   "outputs": [],
   "source": [
    "# Map categories to codelists\n",
    "dict_cat_codes = {\n",
    "    \"diag_central_nervous_system\": 'central-nervous-system-finding',\n",
    "    \"diag_pregnancy_complication\": 'complication-of-pregnancy-childbirth-andor-the-puerperium',\n",
    "    \"diag_congenital_disease\": 'congenital-disease',\n",
    "    \"diag_auditory_disorder\": 'disorder-of-auditory-system',\n",
    "    \"diag_cardio_disorder\": 'disorder-of-cardiovascular-system',\n",
    "    \"diag_bloodcell_disorder\": 'disorder-of-cellular-component-of-blood',\n",
    "    \"diag_connective_tissue\": 'disorder-of-connective-tissue',\n",
    "    \"diag_digestive_disorder\": 'disorder-of-digestive-system',\n",
    "    \"diag_endocrine_disorder\": 'disorder-of-endocrine-system',\n",
    "    \"diag_fetus_newborn_disorder\": 'disorder-of-fetus-or-newborn',\n",
    "    \"diag_hematopoietic_disorder\": 'disorder-of-hematopoietic-structure',\n",
    "    \"diag_immune_disorder\": 'disorder-of-immune-function',\n",
    "    \"diag_labor_delivery_disorder\": 'disorder-of-labor-delivery',\n",
    "    \"diag_musculoskeletal_disorder\": 'disorder-of-musculoskeletal-system',\n",
    "    \"diag_nervous_disorder\": 'disorder-of-nervous-system',\n",
    "    \"diag_puerperium_disorder\": 'disorder-of-puerperium',\n",
    "    \"diag_respiratory_disorder\": 'disorder-of-respiratory-system',\n",
    "    \"diag_skin_disorder\": 'disorder-of-skin-andor-subcutaneous-tissue',\n",
    "    \"diag_genitourinary_disorder\": 'disorder-of-the-genitourinary-system',\n",
    "    \"diag_infectious_disease\": 'infectious-disease',\n",
    "    \"diag_mental_disorder\": 'mental-disorder',\n",
    "    \"diag_metabolic_disease\": 'metabolic-disease',\n",
    "    \"diag_neoplastic_disease\": 'neoplastic-disease',\n",
    "    \"diag_nutritional_disorder\": 'nutritional-disorder',\n",
    "    \"diag_poisoning\": 'poisoning',\n",
    "    \"diag_trauma\": 'traumatic-andor-non-traumatic-injury',\n",
    "    \"diag_visual_disorder\": 'visual-system-disorder',\n",
    "}"
   ]
  },
  {
   "cell_type": "code",
   "execution_count": null,
   "metadata": {},
   "outputs": [],
   "source": [
    "# Import codelist to get codenames\n",
    "def import_codelist(measure):\n",
    "    fname = dict_cat_codes.get(measure)\n",
    "    df_codelist = pd.read_csv(f'../codelists/user-kate-mansfield-{fname}-all-descendants.csv')\n",
    "    return df_codelist\n",
    "\n",
    "def top_codes(measure):\n",
    "    # Sum by code\n",
    "    df_cln_codes = df_clean[['cohort',measure,'population']].rename(columns={'population':'count',measure:'code'})\n",
    "    df_cln_codes_agg = df_cln_codes.groupby(['cohort','code']).sum().reset_index()\n",
    "\n",
    "    # Add code names\n",
    "    df_codelist = import_codelist(measure)\n",
    "    df_code_sum = df_cln_codes_agg.merge(df_codelist, on='code', how='left')\n",
    "\n",
    "    # Redact if count <= 5 and limit to top 5 by cohort\n",
    "    df_code_sum = df_code_sum.loc[df_code_sum['count'] > 5]\n",
    "    df_code_sum = df_code_sum[['cohort','code','term','count']].reset_index(drop=True)\n",
    "    df_code_sum = df_code_sum.sort_values(['cohort','count'],ascending=False).groupby(['cohort'],sort=False).head(5).reset_index(drop=True)\n",
    "    \n",
    "    # Round to nearest 5 \n",
    "    df_code_sum['count'] = df_code_sum['count'].apply(lambda x: round_seven(x))\n",
    "    df_code_sum['code'] = df_code_sum['code'].apply(lambda x: str(int(x)))\n",
    "\n",
    "    # Display\n",
    "    title = measure[5:].replace(\"_\", \" \").title()\n",
    "    print(f'Top Codes ({title})')\n",
    "    display(df_code_sum)\n",
    "    print('\\n')"
   ]
  },
  {
   "cell_type": "code",
   "execution_count": null,
   "metadata": {},
   "outputs": [],
   "source": [
    "for c in diag_cols:\n",
    "    top_codes(c)"
   ]
  },
  {
   "cell_type": "markdown",
   "metadata": {},
   "source": [
    "### Percentage of Sick Notes Across All Diagnostic Categories"
   ]
  },
  {
   "cell_type": "code",
   "execution_count": null,
   "metadata": {},
   "outputs": [],
   "source": [
    "# Limit columns\n",
    "df_sick_notes = df_clean[['cohort','sick_note'] + diag_cols]\n",
    "\n",
    "# Reshape long\n",
    "df_sick_notes_long = pd.melt(df_sick_notes, id_vars=['cohort','sick_note'], value_vars=diag_cols).drop(columns=['variable'])\n",
    "df_sick_notes_long = df_sick_notes_long.loc[~df_sick_notes_long.value.isna()].reset_index(drop=True)\n",
    "\n",
    "# Create sums and percentages\n",
    "df_code_sum = df_sick_notes_long.groupby(['cohort','value']).sum().reset_index()\n",
    "df_cohort_sum = df_code_sum[['cohort','sick_note']].groupby(['cohort']).sum().reset_index().rename(columns={'sick_note':'total_sick_note'})\n",
    "df_all_diag = df_code_sum.merge(df_cohort_sum, on='cohort', how='left')\n",
    "df_all_diag['pct_diag_all_codes'] = (df_all_diag['sick_note']/df_all_diag['total_sick_note'])*100"
   ]
  },
  {
   "cell_type": "code",
   "execution_count": null,
   "metadata": {},
   "outputs": [],
   "source": [
    "create_plotgrid('diag_all_codes',df_all_diag)"
   ]
  },
  {
   "cell_type": "markdown",
   "metadata": {},
   "source": [
    "### Top Codes by All Diagnostic Categories"
   ]
  },
  {
   "cell_type": "code",
   "execution_count": null,
   "metadata": {},
   "outputs": [],
   "source": [
    "# Import and append codelists\n",
    "li_diag_cl = []\n",
    "\n",
    "for k in dict_cat_codes:\n",
    "    df_temp = import_codelist(k)\n",
    "    li_diag_cl.append(df_temp)\n",
    "    \n",
    "df_codelists = pd.concat(li_diag_cl, ignore_index=True).drop_duplicates().reset_index(drop=True)"
   ]
  },
  {
   "cell_type": "code",
   "execution_count": null,
   "metadata": {},
   "outputs": [],
   "source": [
    "# Merge code names\n",
    "df_all_code = df_all_diag[['cohort','value','sick_note']].rename(columns={'value':'code','sick_note':'count'})\n",
    "df_all_code_names = df_all_code.merge(df_codelists, on='code', how='left')[['cohort','code','term','count']]\n",
    "\n",
    "# Restrict to top 5 (redact if count <= 5)\n",
    "df_all_code_names = df_all_code_names.loc[df_all_code_names['count'] > 5]\n",
    "df_all_code_names = df_all_code_names.sort_values(['cohort','count'],ascending=False).groupby(['cohort'],sort=False).head(5).reset_index(drop=True)\n",
    "\n",
    "# Round to nearest 5 \n",
    "df_all_code_names['count'] = df_all_code_names['count'].apply(lambda x: round_seven(x))\n",
    "df_all_code_names['code'] = df_all_code_names['code'].apply(lambda x: str(int(x)))"
   ]
  },
  {
   "cell_type": "code",
   "execution_count": null,
   "metadata": {},
   "outputs": [],
   "source": [
    "print('Top Codes')\n",
    "display(df_all_code_names)"
   ]
  },
  {
   "cell_type": "code",
   "execution_count": null,
   "metadata": {},
   "outputs": [],
   "source": []
  }
 ],
 "metadata": {
  "kernelspec": {
   "display_name": "base",
   "language": "python",
   "name": "python3"
  },
  "language_info": {
   "codemirror_mode": {
    "name": "ipython",
    "version": 3
   },
   "file_extension": ".py",
   "mimetype": "text/x-python",
   "name": "python",
   "nbconvert_exporter": "python",
   "pygments_lexer": "ipython3",
   "version": "3.9.12 (main, Apr  4 2022, 05:22:27) [MSC v.1916 64 bit (AMD64)]"
  },
  "vscode": {
   "interpreter": {
    "hash": "42c6cf4a1c246f196cba3892301c02dcd5c064dd6dc310bc8618ac23859f874d"
   }
  }
 },
 "nbformat": 4,
 "nbformat_minor": 4
}
