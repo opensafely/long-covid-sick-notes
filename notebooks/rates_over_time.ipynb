{
 "cells": [
  {
   "cell_type": "markdown",
   "metadata": {},
   "source": [
    "# rates_over_time.ipynb\n",
    "\n",
    "This notebook describes the number of events over time"
   ]
  },
  {
   "cell_type": "code",
   "execution_count": null,
   "metadata": {},
   "outputs": [],
   "source": [
    "import matplotlib.pyplot as plt\n",
    "import numpy as np\n",
    "import pandas as pd\n",
    "\n",
    "from datetime import datetime\n",
    "from IPython.display import display"
   ]
  },
  {
   "cell_type": "code",
   "execution_count": null,
   "metadata": {},
   "outputs": [],
   "source": [
    "def format_df(file, code):\n",
    "    df = pd.read_stata(\n",
    "        \"../output/cohorts/cohort_rates_{}.dta\".format(file),\n",
    "        convert_dates=True,\n",
    "    )\n",
    "    df = df.loc[~df.sick_note_1_date.isnull()]\n",
    "    df['sick_note_week'] = df['sick_note_1_date'].apply(lambda x: x.isocalendar()[1] if not pd.isnull(x) else '')\n",
    "    df[file+'_sick_note'] = 1\n",
    "    df.loc[~df[code].isna(), file+'_code_use'] = 1\n",
    "    df = df[['sick_note_week',file+'_code_use']].groupby('sick_note_week').sum().dropna()\n",
    "    return df\n",
    "\n",
    "def generic_graph_settings(ax, title):\n",
    "    xlim = ax.get_xlim()\n",
    "    ax.grid(b=False)\n",
    "    ax.set_title(title, loc=\"center\")\n",
    "    ax.set_xlim(xlim)\n",
    "    ax.set_ylim(ymin=0)\n",
    "    plt.tight_layout()\n",
    "\n",
    "def code_use_per_week_graph(code):\n",
    "    covid_df = format_df('covid_2020',code)\n",
    "    general2019_df = format_df('general_2019',code)\n",
    "    general2020_df = format_df('general_2020',code)\n",
    "    pneumonia_df = format_df('pneumonia_2019',code)\n",
    "    \n",
    "    week_total = pd.concat([covid_df, general2019_df, \n",
    "                            general2020_df, pneumonia_df], axis=1)\n",
    "\n",
    "    ax = week_total.plot(kind=\"bar\", width=0.8, figsize=(24, 16))\n",
    "    condition = code[5:].replace(\"_\", \" \").title()\n",
    "    title = f\"Code Use per Week ({condition})\"\n",
    "    ax.xaxis.label.set_visible(False)\n",
    "    ax.set_ylabel(\"Count\")\n",
    "    generic_graph_settings(ax, title)\n",
    "    plt.savefig(f\"../output/{code}_use_per_week.png\")\n",
    "    plt.show()\n",
    "    plt.close()"
   ]
  },
  {
   "cell_type": "code",
   "execution_count": null,
   "metadata": {},
   "outputs": [],
   "source": [
    "code_use_per_week_graph('diag_respiratory_disorder')"
   ]
  },
  {
   "cell_type": "code",
   "execution_count": null,
   "metadata": {},
   "outputs": [],
   "source": []
  }
 ],
 "metadata": {
  "kernelspec": {
   "display_name": "Python 3",
   "language": "python",
   "name": "python3"
  },
  "language_info": {
   "codemirror_mode": {
    "name": "ipython",
    "version": 3
   },
   "file_extension": ".py",
   "mimetype": "text/x-python",
   "name": "python",
   "nbconvert_exporter": "python",
   "pygments_lexer": "ipython3",
   "version": "3.8.5"
  }
 },
 "nbformat": 4,
 "nbformat_minor": 4
}
